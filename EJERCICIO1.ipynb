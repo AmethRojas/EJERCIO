{
 "cells": [
  {
   "cell_type": "code",
   "execution_count": 90,
   "id": "d0311910-4c7f-4b17-a4c9-b6f4cb5c9eb8",
   "metadata": {},
   "outputs": [],
   "source": [
    "#Definir clase del curso\n",
    "class Curso:\n",
    "    def __init__(self, nombre, codigo):\n",
    "        self.nombre = nombre\n",
    "        self.codigo = codigo\n",
    "        self.estudiantes = []\n",
    "\n",
    "    #Añadir un estudiante al curso\n",
    "    def añadir_estudiante(self,estudiante):\n",
    "        sel.estudiante.append(estudiante)\n",
    "\n",
    "    #Mostrar informacion del curso\n",
    "    def informacion_curso(self):\n",
    "        print(f\"Curso: {self.nombre} (Código: {self.codigo})\")\n",
    "        print(\"Estudiantes inscritos:\")\n",
    "        if self.estudiantes:\n",
    "            for estudiante in self.estudiantes:\n",
    "                print(f\"- {estudiantes}\")\n",
    "        else:\n",
    "            print(\"No hay estudiantes inscritos.\")\n",
    "        print()\n",
    "\n",
    "#Definir la clase universidad\n",
    "class Universidad:\n",
    "    def __init__(self):\n",
    "        self.cursos = []\n",
    "\n",
    "    #Añadir un curso a las universidad\n",
    "    def añadir_curso(self, curso):\n",
    "        if curso.codigo in self.cursos:\n",
    "            print(f\"El curso con código [curso.codigo] ya está registrado.\")\n",
    "        else:\n",
    "            self.cursos[curso.codigo] = curso\n",
    "            print(f\"Curso [curso.nombre] (Código: [curso.codigo]) añadido a la univeridad.\")\n",
    "    \n",
    "    def buscar_curso_por_codigo(self, codigo):\n",
    "        curso = self.cursos.get(codigo, None)\n",
    "        if curso:\n",
    "            print(f\"Curso encontrado: {curso.nombr}] (Código: {codigo})\")\n",
    "            curso.mostrar_informacion()\n",
    "        else:\n",
    "            print(f\"No se encontró ningún curso con el código {codigo}.\")\n",
    "    \n",
    "    #Mostrar la informacion de todos los cursos\n",
    "    def mostrar_todos_los_cursos(self):\n",
    "        if self.cursos:\n",
    "            print(\"Informacion de todos los cursos:\")\n",
    "            for curso in self.cursos.values():\n",
    "                curso.mostrar_informacion()\n",
    "        else:\n",
    "            print(\"No hay cursos registrados en la Universidad.\")"
   ]
  },
  {
   "cell_type": "code",
   "execution_count": 100,
   "id": "4293357a-f609-45f4-9b1c-f0e25118c02c",
   "metadata": {},
   "outputs": [],
   "source": [
    "# Crear instancias de Curso\n",
    "curso1 = Curso(\"Matemáticas\", \"MATH101\")\n",
    "curso2 = Curso(\"Historia\", \"HIST202\")"
   ]
  },
  {
   "cell_type": "code",
   "execution_count": 102,
   "id": "614f13c7-d967-4685-b7d0-a0cc69f8621e",
   "metadata": {},
   "outputs": [],
   "source": [
    "# Crear una instancia de Universidad\n",
    "universidad = Universidad()"
   ]
  },
  {
   "cell_type": "code",
   "execution_count": 104,
   "id": "d3d5d435-fedd-4bac-89f4-944c8b304cf1",
   "metadata": {},
   "outputs": [
    {
     "name": "stdout",
     "output_type": "stream",
     "text": [
      "Curso Matemáticas (Código: MATH101) añadido a la universidad.\n",
      "Curso Historia (Código: HIST202) añadido a la universidad.\n"
     ]
    }
   ],
   "source": [
    "# Añadir los cursos a la universidad\n",
    "universidad.añadir_curso(curso1)\n",
    "universidad.añadir_curso(curso2)"
   ]
  },
  {
   "cell_type": "code",
   "execution_count": 108,
   "id": "e97efd54-943a-40e6-8e77-bc179dfe8f3a",
   "metadata": {},
   "outputs": [],
   "source": [
    "# Añadir estudiantes a los cursos\n",
    "curso1.añadir_estudiante(\"Juan Pérez\")\n",
    "curso2.añadir_estudiante(\"María López\")"
   ]
  },
  {
   "cell_type": "code",
   "execution_count": 110,
   "id": "f2ed854b-86d1-469c-946c-c679b3952f0c",
   "metadata": {},
   "outputs": [
    {
     "name": "stdout",
     "output_type": "stream",
     "text": [
      "Información de todos los cursos:\n",
      "Curso: Matemáticas (Código: MATH101)\n",
      "Estudiantes inscritos:\n",
      "- Juan Pérez\n",
      "- Juan Pérez\n",
      "\n",
      "Curso: Historia (Código: HIST202)\n",
      "Estudiantes inscritos:\n",
      "- María López\n",
      "- María López\n",
      "\n"
     ]
    }
   ],
   "source": [
    "# Mostrar la información de todos los cursos en la universidad\n",
    "universidad.mostrar_todos_los_cursos()"
   ]
  },
  {
   "cell_type": "code",
   "execution_count": 112,
   "id": "7715594d-5edb-4391-9233-148932eaa890",
   "metadata": {},
   "outputs": [
    {
     "name": "stdout",
     "output_type": "stream",
     "text": [
      "Curso encontrado: Matemáticas (Código: MATH101)\n",
      "Curso: Matemáticas (Código: MATH101)\n",
      "Estudiantes inscritos:\n",
      "- Juan Pérez\n",
      "- Juan Pérez\n",
      "\n",
      "Curso encontrado: Historia (Código: HIST202)\n",
      "Curso: Historia (Código: HIST202)\n",
      "Estudiantes inscritos:\n",
      "- María López\n",
      "- María López\n",
      "\n",
      "No se encontró ningún curso con el código BIO303.\n"
     ]
    }
   ],
   "source": [
    "# Buscar un curso por su código y mostrar la información\n",
    "universidad.buscar_curso_por_codigo(\"MATH101\")\n",
    "universidad.buscar_curso_por_codigo(\"HIST202\")\n",
    "universidad.buscar_curso_por_codigo(\"BIO303\")"
   ]
  }
 ],
 "metadata": {
  "kernelspec": {
   "display_name": "Python 3 (ipykernel)",
   "language": "python",
   "name": "python3"
  },
  "language_info": {
   "codemirror_mode": {
    "name": "ipython",
    "version": 3
   },
   "file_extension": ".py",
   "mimetype": "text/x-python",
   "name": "python",
   "nbconvert_exporter": "python",
   "pygments_lexer": "ipython3",
   "version": "3.12.4"
  }
 },
 "nbformat": 4,
 "nbformat_minor": 5
}
